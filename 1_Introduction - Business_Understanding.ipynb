{
 "cells": [
  {
   "cell_type": "markdown",
   "metadata": {},
   "source": [
    "# UVA.Capstone1_webscrapper\n",
    "### CS 5010, Summer 2020\n",
    "\n",
    "* Alfred Hull, adh8mb\n",
    "* Farhan Kanani, fk3ak\n",
    "* Dara Maguire, dkm2bd\n",
    "* Francisco Estrada, fge8tj\n",
    "* Niraja Bohidar, nb4dg\n",
    "\n",
    "### Phase I. Business Understanding.\n",
    "\n",
    "### Background\n",
    "\n",
    "Severe Acute Respiratory Syndrome Coronavirus 2 (SARS-CoV-2), also known as COVID-19, has manifested into a pandemic that has spread to 188 countries and territories with more than 17.5 million cases as of August 2020. In the United States alone there have 4.68 million confirmed cases and rising.\n",
    "\n",
    "Though the complete means of the method of transmission is still unclear, several scientists postulate that transmission of COVID-19 occurs primarily in droplets through the air. In order to combat this, health officials have recommended that people wear masks and face shields, and maintain social distancing of at least 6 feet. However, many researchers believe that in order to truly help prevent transmission, we need to protect the air. \n",
    "\n",
    "One aspect of air quality that seems to have been overlooked is humidity. Infection control specialist Stephanie Taylor identified that midrange humidity levels have been able to help prevent the transmission of airborne pathogens. When air is too dry, large air droplets dry out to become smaller droplets. In moister air, airborne viruses like COVID-19, don't seem to be as virulent, though the mechanism is not fully understood. Though creating a more humid environment isn't a complete solution to prevent transmission, it seems to be another step in creating a safer environment. \n",
    " \n",
    "Healthcare professionals, businesses, household owners, and the general public. It would be in their best interests to consider implementing these precautions in order to deter the spread of COVID-19.\n",
    "\n",
    "### Who might care:\n",
    "\n",
    "Healthcare professionals, businesses, household owners, and the general public. It would be in their best interests to consider implementing these precautions in order to deter the spread of COVID-19.\n",
    "\n",
    "### Set-Objective:\n",
    "\n",
    "The objective is to corroborate the evidence that humidity may have a role in reducing transmission by looking at the humidity in each state and the number of cases in those states. \n",
    "\n",
    "Should our data corroborate these findings, it will be further justification for businesses to maintain a midrange (40%-60%) humitity level in their establishments. \n",
    " \n",
    "### Cost and benefits:\n",
    "\n",
    "Though businesses may invest more in quality humidifiers to maintain this level of humidity, it may be a necessity in order create a safer environment for people."
   ]
  },
  {
   "cell_type": "code",
   "execution_count": null,
   "metadata": {},
   "outputs": [],
   "source": []
  }
 ],
 "metadata": {
  "kernelspec": {
   "display_name": "Python 3",
   "language": "python",
   "name": "python3"
  },
  "language_info": {
   "codemirror_mode": {
    "name": "ipython",
    "version": 3
   },
   "file_extension": ".py",
   "mimetype": "text/x-python",
   "name": "python",
   "nbconvert_exporter": "python",
   "pygments_lexer": "ipython3",
   "version": "3.7.6"
  }
 },
 "nbformat": 4,
 "nbformat_minor": 4
}
