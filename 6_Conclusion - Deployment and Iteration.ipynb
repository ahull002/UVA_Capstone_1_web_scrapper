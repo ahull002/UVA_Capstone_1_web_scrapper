{
 "cells": [
  {
   "cell_type": "markdown",
   "metadata": {},
   "source": [
    "## Conclusion\n",
    "\n",
    "In this study to examine the relationship between humidity and the spread of COVID-19 in the fifty continental United States and the Washington District of Columbia, we developed the python code needed to scrape, clean and merge data from two different websites with the information of interest; total COVID-19 cases and deaths, and average overall humidity data for each State.  As the web scraping code was developing, we produced python code to test modules of the code to validate its functionality.   We saved the data to a .csv file, read into the python programming created, and queried for analysis.\n",
    "\n",
    "We generarted statistical models in the form of comparison tables and scatterplots to compare the mean, median, and relationship between the number of total COVID-19 cases and deaths for states in different humidity buckets.   Results of the data analysis indicated that the humidity band, which ranged from ~74 to ~80 percent, between the states was approximately six percent and that the number of cases and deaths began to drop significantly at humidity levels above 78%.\n",
    "\n",
    "We recommend that further studies to validate the correlation between humidity and the spread of COVID-19 be conducted.  The results of our initial efforts examining the relationship between humidity and COVID-19 highlighted that high humidity negatively impacts the spread. However this for humidity to become a forcing factor on sustaining the virus this in itself is not sustainable as high humidity levels required are not tolerable of humans. Health officials should consider using humidity modeling to identify regions most likely to be at higher risk of infection and estimate the potential of spread.  "
   ]
  },
  {
   "cell_type": "code",
   "execution_count": null,
   "metadata": {},
   "outputs": [],
   "source": []
  }
 ],
 "metadata": {
  "kernelspec": {
   "display_name": "Python 3",
   "language": "python",
   "name": "python3"
  },
  "language_info": {
   "codemirror_mode": {
    "name": "ipython",
    "version": 3
   },
   "file_extension": ".py",
   "mimetype": "text/x-python",
   "name": "python",
   "nbconvert_exporter": "python",
   "pygments_lexer": "ipython3",
   "version": "3.7.6"
  }
 },
 "nbformat": 4,
 "nbformat_minor": 4
}
